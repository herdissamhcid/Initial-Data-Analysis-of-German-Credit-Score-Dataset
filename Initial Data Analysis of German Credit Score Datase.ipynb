{
 "cells": [
  {
   "cell_type": "markdown",
   "metadata": {},
   "source": [
    "# Initial Data Analysis of German Credit Score Dataset\n",
    "\n",
    "This is notebook for Practice Case 01 of Data Science Bootcamp Days 4 at iykra. <br>\n",
    "<br>The dataset avaiable at [here](https://github.com/arikunco/GermanCredit/tree/master/dataset). <br>\n",
    "<br>\n",
    "**Part A:** There are 10 questions regarding the dataset. <br>\n",
    "**Part B:** More 10 questions about the dataset. <br>\n",
    "**Part C:** 3 business problems that finding on dataset. \n",
    "<br>\n",
    "<br>The answers are below.\n",
    "<br>\n",
    "<br>\n",
    "Author : Herdis Haerusalam <br>\n",
    "Date: 24 Oktober 2019"
   ]
  },
  {
   "cell_type": "code",
   "execution_count": 216,
   "metadata": {
    "ExecuteTime": {
     "end_time": "2019-10-24T07:24:20.692120Z",
     "start_time": "2019-10-24T07:24:20.654620Z"
    }
   },
   "outputs": [],
   "source": [
    "# import Libraries\n",
    "import pandas as pd\n",
    "import numpy as np\n",
    "import matplotlib.pyplot as plt\n",
    "import seaborn as sns\n",
    "\n",
    "%matplotlib inline\n",
    "sns.set(color_codes=True)"
   ]
  },
  {
   "cell_type": "code",
   "execution_count": 10,
   "metadata": {
    "ExecuteTime": {
     "end_time": "2019-10-24T06:07:22.680701Z",
     "start_time": "2019-10-24T06:07:22.639501Z"
    }
   },
   "outputs": [],
   "source": [
    "# Read data from csv file\n",
    "data = pd.read_csv('german_credit_data_with_risk.csv', encoding =  'Latin1')"
   ]
  },
  {
   "cell_type": "code",
   "execution_count": 13,
   "metadata": {
    "ExecuteTime": {
     "end_time": "2019-10-24T06:11:49.733202Z",
     "start_time": "2019-10-24T06:11:49.679502Z"
    }
   },
   "outputs": [
    {
     "data": {
      "text/html": [
       "<div>\n",
       "<style scoped>\n",
       "    .dataframe tbody tr th:only-of-type {\n",
       "        vertical-align: middle;\n",
       "    }\n",
       "\n",
       "    .dataframe tbody tr th {\n",
       "        vertical-align: top;\n",
       "    }\n",
       "\n",
       "    .dataframe thead th {\n",
       "        text-align: right;\n",
       "    }\n",
       "</style>\n",
       "<table border=\"1\" class=\"dataframe\">\n",
       "  <thead>\n",
       "    <tr style=\"text-align: right;\">\n",
       "      <th></th>\n",
       "      <th>Unnamed: 0</th>\n",
       "      <th>Age</th>\n",
       "      <th>Sex</th>\n",
       "      <th>Job</th>\n",
       "      <th>Housing</th>\n",
       "      <th>Saving accounts</th>\n",
       "      <th>Checking account</th>\n",
       "      <th>Credit amount</th>\n",
       "      <th>Duration</th>\n",
       "      <th>Purpose</th>\n",
       "      <th>Risk</th>\n",
       "    </tr>\n",
       "  </thead>\n",
       "  <tbody>\n",
       "    <tr>\n",
       "      <th>0</th>\n",
       "      <td>0</td>\n",
       "      <td>67</td>\n",
       "      <td>male</td>\n",
       "      <td>2</td>\n",
       "      <td>own</td>\n",
       "      <td>NaN</td>\n",
       "      <td>little</td>\n",
       "      <td>1169</td>\n",
       "      <td>6</td>\n",
       "      <td>radio/TV</td>\n",
       "      <td>good</td>\n",
       "    </tr>\n",
       "    <tr>\n",
       "      <th>1</th>\n",
       "      <td>1</td>\n",
       "      <td>22</td>\n",
       "      <td>female</td>\n",
       "      <td>2</td>\n",
       "      <td>own</td>\n",
       "      <td>little</td>\n",
       "      <td>moderate</td>\n",
       "      <td>5951</td>\n",
       "      <td>48</td>\n",
       "      <td>radio/TV</td>\n",
       "      <td>bad</td>\n",
       "    </tr>\n",
       "    <tr>\n",
       "      <th>2</th>\n",
       "      <td>2</td>\n",
       "      <td>49</td>\n",
       "      <td>male</td>\n",
       "      <td>1</td>\n",
       "      <td>own</td>\n",
       "      <td>little</td>\n",
       "      <td>NaN</td>\n",
       "      <td>2096</td>\n",
       "      <td>12</td>\n",
       "      <td>education</td>\n",
       "      <td>good</td>\n",
       "    </tr>\n",
       "    <tr>\n",
       "      <th>3</th>\n",
       "      <td>3</td>\n",
       "      <td>45</td>\n",
       "      <td>male</td>\n",
       "      <td>2</td>\n",
       "      <td>free</td>\n",
       "      <td>little</td>\n",
       "      <td>little</td>\n",
       "      <td>7882</td>\n",
       "      <td>42</td>\n",
       "      <td>furniture/equipment</td>\n",
       "      <td>good</td>\n",
       "    </tr>\n",
       "    <tr>\n",
       "      <th>4</th>\n",
       "      <td>4</td>\n",
       "      <td>53</td>\n",
       "      <td>male</td>\n",
       "      <td>2</td>\n",
       "      <td>free</td>\n",
       "      <td>little</td>\n",
       "      <td>little</td>\n",
       "      <td>4870</td>\n",
       "      <td>24</td>\n",
       "      <td>car</td>\n",
       "      <td>bad</td>\n",
       "    </tr>\n",
       "  </tbody>\n",
       "</table>\n",
       "</div>"
      ],
      "text/plain": [
       "   Unnamed: 0  Age     Sex  Job Housing Saving accounts Checking account  \\\n",
       "0           0   67    male    2     own             NaN           little   \n",
       "1           1   22  female    2     own          little         moderate   \n",
       "2           2   49    male    1     own          little              NaN   \n",
       "3           3   45    male    2    free          little           little   \n",
       "4           4   53    male    2    free          little           little   \n",
       "\n",
       "   Credit amount  Duration              Purpose  Risk  \n",
       "0           1169         6             radio/TV  good  \n",
       "1           5951        48             radio/TV   bad  \n",
       "2           2096        12            education  good  \n",
       "3           7882        42  furniture/equipment  good  \n",
       "4           4870        24                  car   bad  "
      ]
     },
     "execution_count": 13,
     "metadata": {},
     "output_type": "execute_result"
    }
   ],
   "source": [
    "# brief of the data\n",
    "\n",
    "data.head()"
   ]
  },
  {
   "cell_type": "markdown",
   "metadata": {},
   "source": [
    "# Part A"
   ]
  },
  {
   "cell_type": "markdown",
   "metadata": {},
   "source": [
    "## How many rows and columns reflected in the dataset?"
   ]
  },
  {
   "cell_type": "code",
   "execution_count": 34,
   "metadata": {
    "ExecuteTime": {
     "end_time": "2019-10-24T06:16:03.825603Z",
     "start_time": "2019-10-24T06:16:03.791903Z"
    }
   },
   "outputs": [
    {
     "name": "stdout",
     "output_type": "stream",
     "text": [
      "There are 1000 Rows\n",
      "There are 11 Columns\n"
     ]
    }
   ],
   "source": [
    "rows = data.shape[0]\n",
    "cols = data.shape[1]\n",
    "\n",
    "print('There are ' + str(rows) + ' Rows')\n",
    "print('There are ' + str(cols) +' Columns')"
   ]
  },
  {
   "cell_type": "markdown",
   "metadata": {},
   "source": [
    "## What is the minimum, maximum, and mean of the customer's age?"
   ]
  },
  {
   "cell_type": "code",
   "execution_count": 35,
   "metadata": {
    "ExecuteTime": {
     "end_time": "2019-10-24T06:16:19.928703Z",
     "start_time": "2019-10-24T06:16:19.892503Z"
    }
   },
   "outputs": [
    {
     "name": "stdout",
     "output_type": "stream",
     "text": [
      "The minimum of Age in the dataset is 19 years old\n",
      "The maximum of Age in the dataset is 75 years old\n",
      "The mean of Age in the dataset is 35.546 years old\n"
     ]
    }
   ],
   "source": [
    "max_age  = data['Age'].max()\n",
    "min_age  = data['Age'].min()\n",
    "mean_age = data['Age'].mean()\n",
    "\n",
    "print('The minimum of Age in the dataset is ' + str(min_age) + ' years old')\n",
    "print('The maximum of Age in the dataset is ' + str(max_age) + ' years old')\n",
    "print('The mean of Age in the dataset is ' + str(mean_age) + ' years old')"
   ]
  },
  {
   "cell_type": "markdown",
   "metadata": {},
   "source": [
    "## How many are male and how many are female? Why?"
   ]
  },
  {
   "cell_type": "code",
   "execution_count": 53,
   "metadata": {
    "ExecuteTime": {
     "end_time": "2019-10-24T06:21:22.975905Z",
     "start_time": "2019-10-24T06:21:22.929105Z"
    }
   },
   "outputs": [
    {
     "name": "stdout",
     "output_type": "stream",
     "text": [
      "There are 690 male customers\n",
      "There are 310 female customers\n"
     ]
    }
   ],
   "source": [
    "male_data = data[data['Sex'] == 'male']['Sex'].value_counts()\n",
    "female_data = data[data['Sex'] == 'female']['Sex'].value_counts()\n",
    "\n",
    "print('There are ' + str(male_data[0]) + ' male customers')\n",
    "print('There are ' + str(female_data[0]) + ' female customers')"
   ]
  },
  {
   "cell_type": "markdown",
   "metadata": {},
   "source": [
    "## How many high skilled workers customers reflected in the dataset? "
   ]
  },
  {
   "cell_type": "code",
   "execution_count": 70,
   "metadata": {
    "ExecuteTime": {
     "end_time": "2019-10-24T06:26:29.995106Z",
     "start_time": "2019-10-24T06:26:29.959506Z"
    }
   },
   "outputs": [
    {
     "name": "stdout",
     "output_type": "stream",
     "text": [
      "There are 148 high skilled workers customers\n"
     ]
    }
   ],
   "source": [
    "high_skilled_data = data[data['Job'] == 3]['Job'].value_counts()\n",
    "\n",
    "print('There are ' + str(high_skilled_data[3]) + ' high skilled workers customers')"
   ]
  },
  {
   "cell_type": "markdown",
   "metadata": {},
   "source": [
    "## How many customers who own the house?"
   ]
  },
  {
   "cell_type": "code",
   "execution_count": 79,
   "metadata": {
    "ExecuteTime": {
     "end_time": "2019-10-24T06:28:51.114507Z",
     "start_time": "2019-10-24T06:28:51.076407Z"
    }
   },
   "outputs": [
    {
     "name": "stdout",
     "output_type": "stream",
     "text": [
      "There are 713 customers who own houses\n"
     ]
    }
   ],
   "source": [
    "own_house_data = data[data['Housing'] == 'own']['Housing'].value_counts()\n",
    "\n",
    "print('There are ' + str(own_house_data[0]) + ' customers who own houses')"
   ]
  },
  {
   "cell_type": "markdown",
   "metadata": {},
   "source": [
    "## How many customers who have 'rich' Saving accounts? \n"
   ]
  },
  {
   "cell_type": "code",
   "execution_count": 82,
   "metadata": {
    "ExecuteTime": {
     "end_time": "2019-10-24T06:30:23.394307Z",
     "start_time": "2019-10-24T06:30:23.368707Z"
    }
   },
   "outputs": [
    {
     "name": "stdout",
     "output_type": "stream",
     "text": [
      "There are 48 customers who have rich saving account\n"
     ]
    }
   ],
   "source": [
    "saving_rich_data = data[data['Saving accounts'] == 'rich']['Saving accounts'].value_counts()\n",
    "\n",
    "print('There are ' + str(saving_rich_data[0]) + ' customers who have rich saving account')"
   ]
  },
  {
   "cell_type": "markdown",
   "metadata": {},
   "source": [
    "## How many customers who do not have checking accounts or have zero checking account? "
   ]
  },
  {
   "cell_type": "code",
   "execution_count": 145,
   "metadata": {
    "ExecuteTime": {
     "end_time": "2019-10-24T06:46:22.883511Z",
     "start_time": "2019-10-24T06:46:22.852911Z"
    }
   },
   "outputs": [
    {
     "name": "stdout",
     "output_type": "stream",
     "text": [
      "There are 394 customers who dont have checking account\n"
     ]
    }
   ],
   "source": [
    "nan_value_data = data['Checking account'].isnull().sum()\n",
    "\n",
    "print('There are ' + str(nan_value_data) + ' customers who dont have checking account')"
   ]
  },
  {
   "cell_type": "markdown",
   "metadata": {},
   "source": [
    "## Who is the one who have highest credit amount? Show us the profile of the age, sex, job, housing, saving account, and checking account!"
   ]
  },
  {
   "cell_type": "code",
   "execution_count": 132,
   "metadata": {
    "ExecuteTime": {
     "end_time": "2019-10-24T06:41:53.490710Z",
     "start_time": "2019-10-24T06:41:53.440110Z"
    }
   },
   "outputs": [
    {
     "data": {
      "text/html": [
       "<div>\n",
       "<style scoped>\n",
       "    .dataframe tbody tr th:only-of-type {\n",
       "        vertical-align: middle;\n",
       "    }\n",
       "\n",
       "    .dataframe tbody tr th {\n",
       "        vertical-align: top;\n",
       "    }\n",
       "\n",
       "    .dataframe thead th {\n",
       "        text-align: right;\n",
       "    }\n",
       "</style>\n",
       "<table border=\"1\" class=\"dataframe\">\n",
       "  <thead>\n",
       "    <tr style=\"text-align: right;\">\n",
       "      <th></th>\n",
       "      <th>Unnamed: 0</th>\n",
       "      <th>Age</th>\n",
       "      <th>Sex</th>\n",
       "      <th>Job</th>\n",
       "      <th>Housing</th>\n",
       "      <th>Saving accounts</th>\n",
       "      <th>Checking account</th>\n",
       "      <th>Credit amount</th>\n",
       "      <th>Duration</th>\n",
       "      <th>Purpose</th>\n",
       "      <th>Risk</th>\n",
       "    </tr>\n",
       "  </thead>\n",
       "  <tbody>\n",
       "    <tr>\n",
       "      <th>915</th>\n",
       "      <td>915</td>\n",
       "      <td>32</td>\n",
       "      <td>female</td>\n",
       "      <td>3</td>\n",
       "      <td>own</td>\n",
       "      <td>little</td>\n",
       "      <td>moderate</td>\n",
       "      <td>18424</td>\n",
       "      <td>48</td>\n",
       "      <td>vacation/others</td>\n",
       "      <td>bad</td>\n",
       "    </tr>\n",
       "  </tbody>\n",
       "</table>\n",
       "</div>"
      ],
      "text/plain": [
       "     Unnamed: 0  Age     Sex  Job Housing Saving accounts Checking account  \\\n",
       "915         915   32  female    3     own          little         moderate   \n",
       "\n",
       "     Credit amount  Duration          Purpose Risk  \n",
       "915          18424        48  vacation/others  bad  "
      ]
     },
     "execution_count": 132,
     "metadata": {},
     "output_type": "execute_result"
    }
   ],
   "source": [
    "customer_highest_credit = data.sort_values(by='Credit amount', ascending=False).head(1)\n",
    "customer_highest_credit"
   ]
  },
  {
   "cell_type": "markdown",
   "metadata": {},
   "source": [
    "## How many customers are classified as good risk and bad risk? \n"
   ]
  },
  {
   "cell_type": "code",
   "execution_count": 151,
   "metadata": {
    "ExecuteTime": {
     "end_time": "2019-10-24T06:47:41.323511Z",
     "start_time": "2019-10-24T06:47:41.282911Z"
    }
   },
   "outputs": [
    {
     "name": "stdout",
     "output_type": "stream",
     "text": [
      "There are 700 customers who classifed as good risk\n",
      "There are 300 customers who classifed as good risk\n"
     ]
    }
   ],
   "source": [
    "good_risk = data[data['Risk'] == 'good']['Risk'].value_counts()\n",
    "bad_risk = data[data['Risk'] == 'bad']['Risk'].value_counts()\n",
    "\n",
    "print('There are ' + str(good_risk[0]) + ' customers who classifed as good risk')\n",
    "print('There are ' + str(bad_risk[0]) + ' customers who classifed as good risk')"
   ]
  },
  {
   "cell_type": "markdown",
   "metadata": {},
   "source": [
    "## Is the average of credit amount for good risk is higher than bad risk?"
   ]
  },
  {
   "cell_type": "code",
   "execution_count": 182,
   "metadata": {
    "ExecuteTime": {
     "end_time": "2019-10-24T07:03:09.368315Z",
     "start_time": "2019-10-24T07:03:09.330215Z"
    }
   },
   "outputs": [
    {
     "name": "stdout",
     "output_type": "stream",
     "text": [
      "The average credit amount for good risk is lower than bad risk\n"
     ]
    }
   ],
   "source": [
    "# Calculating average credit amount for good risk\n",
    "mean_credit_amount_good = data[data['Risk'] == 'good']['Credit amount'].mean()\n",
    "mean_credit_amount_good\n",
    "\n",
    "# Calculating average credit amount for bad risk\n",
    "mean_credit_amount_bad = data[data['Risk'] == 'bad']['Credit amount'].mean()\n",
    "mean_credit_amount_bad\n",
    "\n",
    "# Doing conditional statement to check, is average of credit amount for good risk is higher than basd risk\n",
    "if mean_credit_amount_good > mean_credit_amount_bad :\n",
    "    print('The average credit amount for good risk is higher than bad risk')\n",
    "else:\n",
    "    print('The average credit amount for good risk is lower than bad risk')"
   ]
  },
  {
   "cell_type": "markdown",
   "metadata": {
    "ExecuteTime": {
     "end_time": "2019-10-24T07:01:30.687515Z",
     "start_time": "2019-10-24T07:01:30.659415Z"
    }
   },
   "source": [
    "# Part B"
   ]
  },
  {
   "cell_type": "code",
   "execution_count": 203,
   "metadata": {
    "ExecuteTime": {
     "end_time": "2019-10-24T07:13:54.568317Z",
     "start_time": "2019-10-24T07:13:54.537117Z"
    }
   },
   "outputs": [
    {
     "data": {
      "text/html": [
       "<div>\n",
       "<style scoped>\n",
       "    .dataframe tbody tr th:only-of-type {\n",
       "        vertical-align: middle;\n",
       "    }\n",
       "\n",
       "    .dataframe tbody tr th {\n",
       "        vertical-align: top;\n",
       "    }\n",
       "\n",
       "    .dataframe thead th {\n",
       "        text-align: right;\n",
       "    }\n",
       "</style>\n",
       "<table border=\"1\" class=\"dataframe\">\n",
       "  <thead>\n",
       "    <tr style=\"text-align: right;\">\n",
       "      <th></th>\n",
       "      <th>Unnamed: 0</th>\n",
       "      <th>Age</th>\n",
       "      <th>Sex</th>\n",
       "      <th>Job</th>\n",
       "      <th>Housing</th>\n",
       "      <th>Saving accounts</th>\n",
       "      <th>Checking account</th>\n",
       "      <th>Credit amount</th>\n",
       "      <th>Duration</th>\n",
       "      <th>Purpose</th>\n",
       "      <th>Risk</th>\n",
       "    </tr>\n",
       "  </thead>\n",
       "  <tbody>\n",
       "    <tr>\n",
       "      <th>0</th>\n",
       "      <td>0</td>\n",
       "      <td>67</td>\n",
       "      <td>male</td>\n",
       "      <td>2</td>\n",
       "      <td>own</td>\n",
       "      <td>NaN</td>\n",
       "      <td>little</td>\n",
       "      <td>1169</td>\n",
       "      <td>6</td>\n",
       "      <td>radio/TV</td>\n",
       "      <td>good</td>\n",
       "    </tr>\n",
       "    <tr>\n",
       "      <th>1</th>\n",
       "      <td>1</td>\n",
       "      <td>22</td>\n",
       "      <td>female</td>\n",
       "      <td>2</td>\n",
       "      <td>own</td>\n",
       "      <td>little</td>\n",
       "      <td>moderate</td>\n",
       "      <td>5951</td>\n",
       "      <td>48</td>\n",
       "      <td>radio/TV</td>\n",
       "      <td>bad</td>\n",
       "    </tr>\n",
       "    <tr>\n",
       "      <th>2</th>\n",
       "      <td>2</td>\n",
       "      <td>49</td>\n",
       "      <td>male</td>\n",
       "      <td>1</td>\n",
       "      <td>own</td>\n",
       "      <td>little</td>\n",
       "      <td>NaN</td>\n",
       "      <td>2096</td>\n",
       "      <td>12</td>\n",
       "      <td>education</td>\n",
       "      <td>good</td>\n",
       "    </tr>\n",
       "    <tr>\n",
       "      <th>3</th>\n",
       "      <td>3</td>\n",
       "      <td>45</td>\n",
       "      <td>male</td>\n",
       "      <td>2</td>\n",
       "      <td>free</td>\n",
       "      <td>little</td>\n",
       "      <td>little</td>\n",
       "      <td>7882</td>\n",
       "      <td>42</td>\n",
       "      <td>furniture/equipment</td>\n",
       "      <td>good</td>\n",
       "    </tr>\n",
       "    <tr>\n",
       "      <th>4</th>\n",
       "      <td>4</td>\n",
       "      <td>53</td>\n",
       "      <td>male</td>\n",
       "      <td>2</td>\n",
       "      <td>free</td>\n",
       "      <td>little</td>\n",
       "      <td>little</td>\n",
       "      <td>4870</td>\n",
       "      <td>24</td>\n",
       "      <td>car</td>\n",
       "      <td>bad</td>\n",
       "    </tr>\n",
       "  </tbody>\n",
       "</table>\n",
       "</div>"
      ],
      "text/plain": [
       "   Unnamed: 0  Age     Sex  Job Housing Saving accounts Checking account  \\\n",
       "0           0   67    male    2     own             NaN           little   \n",
       "1           1   22  female    2     own          little         moderate   \n",
       "2           2   49    male    1     own          little              NaN   \n",
       "3           3   45    male    2    free          little           little   \n",
       "4           4   53    male    2    free          little           little   \n",
       "\n",
       "   Credit amount  Duration              Purpose  Risk  \n",
       "0           1169         6             radio/TV  good  \n",
       "1           5951        48             radio/TV   bad  \n",
       "2           2096        12            education  good  \n",
       "3           7882        42  furniture/equipment  good  \n",
       "4           4870        24                  car   bad  "
      ]
     },
     "execution_count": 203,
     "metadata": {},
     "output_type": "execute_result"
    }
   ],
   "source": [
    "# Brief of data\n",
    "data.head()"
   ]
  },
  {
   "cell_type": "markdown",
   "metadata": {
    "ExecuteTime": {
     "end_time": "2019-10-24T07:03:53.970616Z",
     "start_time": "2019-10-24T07:03:53.947516Z"
    }
   },
   "source": [
    "## Is customers classifed as good mostly own house or not?"
   ]
  },
  {
   "cell_type": "code",
   "execution_count": 213,
   "metadata": {
    "ExecuteTime": {
     "end_time": "2019-10-24T07:23:09.127320Z",
     "start_time": "2019-10-24T07:23:09.107320Z"
    }
   },
   "outputs": [
    {
     "data": {
      "text/plain": [
       "own    527\n",
       "Name: Housing, dtype: int64"
      ]
     },
     "execution_count": 213,
     "metadata": {},
     "output_type": "execute_result"
    }
   ],
   "source": [
    "# Own house for good customers\n",
    "own_house_good = data[(data['Risk'] == 'good') & (data['Housing'] == 'own' )]['Housing']\n",
    "own_house_good.value_counts()"
   ]
  },
  {
   "cell_type": "code",
   "execution_count": 211,
   "metadata": {
    "ExecuteTime": {
     "end_time": "2019-10-24T07:21:28.783920Z",
     "start_time": "2019-10-24T07:21:28.750220Z"
    }
   },
   "outputs": [
    {
     "data": {
      "text/plain": [
       "rent    109\n",
       "Name: Housing, dtype: int64"
      ]
     },
     "execution_count": 211,
     "metadata": {},
     "output_type": "execute_result"
    }
   ],
   "source": [
    "# Rent house for good customers\n",
    "rent_house_good = data[(data['Risk'] == 'good') & (data['Housing'] == 'rent' )]['Housing']\n",
    "rent_house_good.value_counts()"
   ]
  },
  {
   "cell_type": "code",
   "execution_count": 210,
   "metadata": {
    "ExecuteTime": {
     "end_time": "2019-10-24T07:21:27.184520Z",
     "start_time": "2019-10-24T07:21:27.137720Z"
    }
   },
   "outputs": [
    {
     "data": {
      "text/plain": [
       "free    64\n",
       "Name: Housing, dtype: int64"
      ]
     },
     "execution_count": 210,
     "metadata": {},
     "output_type": "execute_result"
    }
   ],
   "source": [
    "# Free house for good customers\n",
    "free_house_good = data[(data['Risk'] == 'good') & (data['Housing'] == 'free' )]['Housing']\n",
    "free_house_good.value_counts()"
   ]
  },
  {
   "cell_type": "code",
   "execution_count": 227,
   "metadata": {
    "ExecuteTime": {
     "end_time": "2019-10-24T07:28:13.299320Z",
     "start_time": "2019-10-24T07:28:13.183120Z"
    }
   },
   "outputs": [
    {
     "data": {
      "image/png": "[encoded data removed]",
      "text/plain": [
       "<Figure size 432x288 with 1 Axes>"
      ]
     },
     "metadata": {},
     "output_type": "display_data"
    }
   ],
   "source": [
    "# Data to plot\n",
    "labels = 'Own', 'Rent', 'Free'\n",
    "sizes = [own_house_good.value_counts()[0], rent_house_good.value_counts()[0],free_house_good.value_counts()[0] ]\n",
    "colors = ['gold', 'yellowgreen', 'lightcoral']\n",
    "explode = (0.1, 0, 0)  # explode 1st slice\n",
    "\n",
    "# Plot\n",
    "plt.pie(sizes, explode=explode, labels=labels, colors=colors,\n",
    "autopct='%1.1f%%', shadow=True, startangle=140)\n",
    "\n",
    "plt.axis('equal')\n",
    "plt.show()"
   ]
  },
  {
   "cell_type": "markdown",
   "metadata": {
    "ExecuteTime": {
     "end_time": "2019-10-24T07:23:29.731620Z",
     "start_time": "2019-10-24T07:23:29.716620Z"
    }
   },
   "source": [
    "Mostly customers who are classifed as good customer have own house with pecentage 75.3 %"
   ]
  },
  {
   "cell_type": "markdown",
   "metadata": {},
   "source": [
    "## How about the customers classifed as bad mostly own house or not?"
   ]
  },
  {
   "cell_type": "code",
   "execution_count": 230,
   "metadata": {
    "ExecuteTime": {
     "end_time": "2019-10-24T07:33:45.377522Z",
     "start_time": "2019-10-24T07:33:45.226322Z"
    }
   },
   "outputs": [
    {
     "data": {
      "image/png": "[encoded data removed]",
      "text/plain": [
       "<Figure size 432x288 with 1 Axes>"
      ]
     },
     "metadata": {},
     "output_type": "display_data"
    }
   ],
   "source": [
    "# Own house for bad customers\n",
    "own_house_bad = data[(data['Risk'] == 'bad') & (data['Housing'] == 'own' )]['Housing']\n",
    "\n",
    "# rent house for bad customers\n",
    "rent_house_bad = data[(data['Risk'] == 'bad') & (data['Housing'] == 'rent' )]['Housing']\n",
    "\n",
    "# free house for bad customers\n",
    "free_house_bad = data[(data['Risk'] == 'bad') & (data['Housing'] == 'free' )]['Housing']\n",
    "\n",
    "# Data to plot\n",
    "labels = 'Own', 'Rent', 'Free'\n",
    "sizes = [own_house_bad.value_counts()[0], rent_house_bad.value_counts()[0],free_house_bad.value_counts()[0] ]\n",
    "colors = ['gold', 'yellowgreen', 'lightcoral']\n",
    "explode = (0.1, 0, 0)  # explode 1st slice\n",
    "\n",
    "# Plot\n",
    "plt.pie(sizes, explode=explode, labels=labels, colors=colors,\n",
    "autopct='%1.1f%%', shadow=True, startangle=140)\n",
    "\n",
    "plt.axis('equal')\n",
    "plt.show()"
   ]
  },
  {
   "cell_type": "markdown",
   "metadata": {},
   "source": [
    "Mostly customers who are classifed as bad customer have own house with pecentage 62.0 %"
   ]
  },
  {
   "cell_type": "markdown",
   "metadata": {},
   "source": [
    "## What the purpose that have high frequency?"
   ]
  },
  {
   "cell_type": "code",
   "execution_count": 254,
   "metadata": {
    "ExecuteTime": {
     "end_time": "2019-10-24T07:47:02.214226Z",
     "start_time": "2019-10-24T07:47:02.191626Z"
    }
   },
   "outputs": [
    {
     "data": {
      "text/plain": [
       "car                    337\n",
       "radio/TV               280\n",
       "furniture/equipment    181\n",
       "business                97\n",
       "education               59\n",
       "repairs                 22\n",
       "domestic appliances     12\n",
       "vacation/others         12\n",
       "Name: Purpose, dtype: int64"
      ]
     },
     "execution_count": 254,
     "metadata": {},
     "output_type": "execute_result"
    }
   ],
   "source": [
    "purpose_freq = data['Purpose'].value_counts()\n",
    "purpose_freq"
   ]
  },
  {
   "cell_type": "markdown",
   "metadata": {},
   "source": [
    "Purpose for car loan is the most of credit purpose in dataset."
   ]
  },
  {
   "cell_type": "markdown",
   "metadata": {},
   "source": [
    "## How many and percentage customers that classifed as good/bad risk who purpose credit for car?"
   ]
  },
  {
   "cell_type": "code",
   "execution_count": 269,
   "metadata": {
    "ExecuteTime": {
     "end_time": "2019-10-24T07:55:34.006228Z",
     "start_time": "2019-10-24T07:55:33.904628Z"
    }
   },
   "outputs": [
    {
     "data": {
      "image/png": "[encoded data removed]",
      "text/plain": [
       "<Figure size 432x288 with 1 Axes>"
      ]
     },
     "metadata": {},
     "output_type": "display_data"
    },
    {
     "name": "stdout",
     "output_type": "stream",
     "text": [
      "There are 231 customers who classifed as good customer who have purpose for car credit with 68.5 %\n",
      "There are 106 customers who classifed as bad customer who have purpose for car credit 31.5 %\n"
     ]
    }
   ],
   "source": [
    "data_purpose_car = data[data['Purpose'] == 'car'].groupby(by='Risk')['Risk'].value_counts()\n",
    "\n",
    "# Data to plot\n",
    "labels = 'Bad', 'Good'\n",
    "sizes = [data_purpose_car[0], data_purpose_car[1] ]\n",
    "colors = ['gold', 'yellowgreen']\n",
    "explode = (0.1, 0)  # explode 1st slice\n",
    "\n",
    "# Plot\n",
    "plt.pie(sizes, explode=explode, labels=labels, colors=colors,\n",
    "autopct='%1.1f%%', shadow=True, startangle=140)\n",
    "\n",
    "plt.axis('equal')\n",
    "plt.show()\n",
    "\n",
    "print('There are ' + str(data_purpose_car[1])+ ' customers who classifed as good customer who have purpose for car credit with 68.5 %')\n",
    "print('There are ' + str(data_purpose_car[0])+ ' customers who classifed as bad customer who have purpose for car credit 31.5 %')"
   ]
  },
  {
   "cell_type": "markdown",
   "metadata": {},
   "source": [
    "## How many the average loan duration in dataset?"
   ]
  },
  {
   "cell_type": "code",
   "execution_count": 274,
   "metadata": {
    "ExecuteTime": {
     "end_time": "2019-10-24T08:00:18.456629Z",
     "start_time": "2019-10-24T08:00:18.441029Z"
    }
   },
   "outputs": [
    {
     "name": "stdout",
     "output_type": "stream",
     "text": [
      "The average duration is 20.903 months\n"
     ]
    }
   ],
   "source": [
    "mean_loan = data['Duration'].mean()\n",
    "\n",
    "print('The average duration is ' + str(mean_loan)+' months')"
   ]
  },
  {
   "cell_type": "markdown",
   "metadata": {},
   "source": [
    "## How many average duration of loan for each good and bad risk?"
   ]
  },
  {
   "cell_type": "code",
   "execution_count": 277,
   "metadata": {
    "ExecuteTime": {
     "end_time": "2019-10-24T08:03:03.186830Z",
     "start_time": "2019-10-24T08:03:03.155630Z"
    }
   },
   "outputs": [
    {
     "name": "stdout",
     "output_type": "stream",
     "text": [
      "The average duration for good risk is 19.207142857142856 months\n",
      "The average duration for bad risk is 24.86 months\n"
     ]
    }
   ],
   "source": [
    "mean_loan_good = data[data['Risk'] == 'good']['Duration'].mean()\n",
    "mean_loan_bad = data[data['Risk'] == 'bad']['Duration'].mean()\n",
    "\n",
    "print('The average duration for good risk is ' + str(mean_loan_good)+' months')\n",
    "print('The average duration for bad risk is ' + str(mean_loan_bad)+' months')"
   ]
  },
  {
   "cell_type": "markdown",
   "metadata": {},
   "source": [
    "## What the maximum and minimum loan duration at dataset?"
   ]
  },
  {
   "cell_type": "code",
   "execution_count": 281,
   "metadata": {
    "ExecuteTime": {
     "end_time": "2019-10-24T08:05:03.256830Z",
     "start_time": "2019-10-24T08:05:03.235230Z"
    }
   },
   "outputs": [
    {
     "name": "stdout",
     "output_type": "stream",
     "text": [
      "The average duration for good risk is 72 months\n",
      "The average duration for bad risk is 4 months\n"
     ]
    }
   ],
   "source": [
    "max_loan = data['Duration'].max()\n",
    "min_loan = data['Duration'].min()\n",
    "\n",
    "print('The average duration for good risk is ' + str(max_loan)+' months')\n",
    "print('The average duration for bad risk is ' + str(min_loan)+' months')"
   ]
  },
  {
   "cell_type": "markdown",
   "metadata": {},
   "source": [
    "## How many customes who have good risk based on gender?"
   ]
  },
  {
   "cell_type": "code",
   "execution_count": 304,
   "metadata": {
    "ExecuteTime": {
     "end_time": "2019-10-24T08:12:53.004832Z",
     "start_time": "2019-10-24T08:12:52.964632Z"
    }
   },
   "outputs": [
    {
     "name": "stdout",
     "output_type": "stream",
     "text": [
      "There are 499 male customer who classifed as good risk\n",
      "There are 201 female customer who classifed as good risk\n"
     ]
    }
   ],
   "source": [
    "male_risk_good = data[(data['Sex'] == 'male') & (data['Risk'] == 'good')]['Sex'].value_counts()\n",
    "female_risk_good = data[(data['Sex'] == 'female') & (data['Risk'] == 'good')]['Sex'].value_counts()\n",
    "\n",
    "print('There are ' + str(male_risk_good[0])+' male customer who classifed as good risk')\n",
    "print('There are ' + str(female_risk_good[0])+' female customer who classifed as good risk')"
   ]
  },
  {
   "cell_type": "markdown",
   "metadata": {},
   "source": [
    "## What is the most job customer that classifed as good or bad?"
   ]
  },
  {
   "cell_type": "code",
   "execution_count": 317,
   "metadata": {
    "ExecuteTime": {
     "end_time": "2019-10-24T08:20:48.767834Z",
     "start_time": "2019-10-24T08:20:48.736234Z"
    }
   },
   "outputs": [
    {
     "data": {
      "text/plain": [
       "2    444\n",
       "1    144\n",
       "3     97\n",
       "0     15\n",
       "Name: Job, dtype: int64"
      ]
     },
     "execution_count": 317,
     "metadata": {},
     "output_type": "execute_result"
    }
   ],
   "source": [
    "job_good = data[data['Risk'] == 'good']['Job'].value_counts()\n",
    "job_bad = data[data['Risk'] == 'bad']['Job'].value_counts()\n",
    "\n",
    "job_good"
   ]
  },
  {
   "cell_type": "code",
   "execution_count": 318,
   "metadata": {
    "ExecuteTime": {
     "end_time": "2019-10-24T08:20:50.683234Z",
     "start_time": "2019-10-24T08:20:50.667634Z"
    }
   },
   "outputs": [
    {
     "name": "stdout",
     "output_type": "stream",
     "text": [
      "The most of good customers are skilled customers\n"
     ]
    }
   ],
   "source": [
    "print('The most of good customers are skilled customers')"
   ]
  },
  {
   "cell_type": "code",
   "execution_count": 314,
   "metadata": {
    "ExecuteTime": {
     "end_time": "2019-10-24T08:19:56.727634Z",
     "start_time": "2019-10-24T08:19:56.696434Z"
    }
   },
   "outputs": [
    {
     "data": {
      "text/plain": [
       "2    186\n",
       "1     56\n",
       "3     51\n",
       "0      7\n",
       "Name: Job, dtype: int64"
      ]
     },
     "execution_count": 314,
     "metadata": {},
     "output_type": "execute_result"
    }
   ],
   "source": [
    "job_bad"
   ]
  },
  {
   "cell_type": "code",
   "execution_count": 319,
   "metadata": {
    "ExecuteTime": {
     "end_time": "2019-10-24T08:21:02.985434Z",
     "start_time": "2019-10-24T08:21:02.946234Z"
    }
   },
   "outputs": [
    {
     "name": "stdout",
     "output_type": "stream",
     "text": [
      "The most of bad customers are skilled customers\n"
     ]
    }
   ],
   "source": [
    "print('The most of bad customers are skilled customers')"
   ]
  },
  {
   "cell_type": "markdown",
   "metadata": {},
   "source": [
    "## What the most of puspose of loan who classifed as bad risk customer?"
   ]
  },
  {
   "cell_type": "code",
   "execution_count": 323,
   "metadata": {
    "ExecuteTime": {
     "end_time": "2019-10-24T08:24:46.902435Z",
     "start_time": "2019-10-24T08:24:46.878835Z"
    }
   },
   "outputs": [
    {
     "data": {
      "text/plain": [
       "car                    106\n",
       "radio/TV                62\n",
       "furniture/equipment     58\n",
       "business                34\n",
       "education               23\n",
       "repairs                  8\n",
       "vacation/others          5\n",
       "domestic appliances      4\n",
       "Name: Purpose, dtype: int64"
      ]
     },
     "execution_count": 323,
     "metadata": {},
     "output_type": "execute_result"
    }
   ],
   "source": [
    "bad_purpose = data[data['Risk'] == 'bad']['Purpose'].value_counts()\n",
    "bad_purpose"
   ]
  },
  {
   "cell_type": "markdown",
   "metadata": {},
   "source": [
    "The most of customer who classifed as bad customers are car laon with 104 frequency."
   ]
  },
  {
   "cell_type": "markdown",
   "metadata": {},
   "source": [
    "# Part C"
   ]
  },
  {
   "cell_type": "markdown",
   "metadata": {},
   "source": [
    "## If we assume that good customer will payback the loan amount, what the crieteria (demography, credit amount, loan amount, etc) that we can predict based on that data? How?"
   ]
  },
  {
   "cell_type": "markdown",
   "metadata": {},
   "source": [
    "## Is there are some segmentation based on dataset? if we can offer product to customer that have good track record (based on good risk/return laon amount) we can increase company revenue based on this dataset."
   ]
  },
  {
   "cell_type": "markdown",
   "metadata": {},
   "source": [
    "## if we assume that bad customer will have probability to not return the loan amount. How we can reduce kind of this customers."
   ]
  },
  {
   "cell_type": "markdown",
   "metadata": {},
   "source": []
  }
 ],
 "metadata": {
  "kernelspec": {
   "display_name": "Python 3",
   "language": "python",
   "name": "python3"
  },
  "language_info": {
   "codemirror_mode": {
    "name": "ipython",
    "version": 3
   },
   "file_extension": ".py",
   "mimetype": "text/x-python",
   "name": "python",
   "nbconvert_exporter": "python",
   "pygments_lexer": "ipython3",
   "version": "3.6.4"
  },
  "toc": {
   "base_numbering": 1,
   "nav_menu": {},
   "number_sections": true,
   "sideBar": true,
   "skip_h1_title": false,
   "title_cell": "Table of Contents",
   "title_sidebar": "Contents",
   "toc_cell": false,
   "toc_position": {},
   "toc_section_display": true,
   "toc_window_display": false
  }
 },
 "nbformat": 4,
 "nbformat_minor": 2
}
